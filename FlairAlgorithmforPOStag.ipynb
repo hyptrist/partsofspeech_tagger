{
 "cells": [
  {
   "cell_type": "code",
   "execution_count": null,
   "metadata": {
    "colab": {
     "base_uri": "https://localhost:8080/"
    },
    "id": "7oPVrDHJHsiX",
    "outputId": "50119315-ee2f-44c0-b7e8-e2843682fc32"
   },
   "outputs": [
    {
     "name": "stdout",
     "output_type": "stream",
     "text": [
      "Collecting flair\n",
      "\u001b[?25l  Downloading https://files.pythonhosted.org/packages/f0/3a/1b46a0220d6176b22bcb9336619d1731301bc2c75fa926a9ef953e6e4d58/flair-0.8.0.post1-py3-none-any.whl (284kB)\n",
      "\u001b[K     |████████████████████████████████| 286kB 4.0MB/s \n",
      "\u001b[?25hCollecting transformers>=4.0.0\n",
      "\u001b[?25l  Downloading https://files.pythonhosted.org/packages/d8/b2/57495b5309f09fa501866e225c84532d1fd89536ea62406b2181933fb418/transformers-4.5.1-py3-none-any.whl (2.1MB)\n",
      "\u001b[K     |████████████████████████████████| 2.1MB 30.0MB/s \n",
      "\u001b[?25hCollecting torch<=1.7.1,>=1.5.0\n",
      "\u001b[?25l  Downloading https://files.pythonhosted.org/packages/90/5d/095ddddc91c8a769a68c791c019c5793f9c4456a688ddd235d6670924ecb/torch-1.7.1-cp37-cp37m-manylinux1_x86_64.whl (776.8MB)\n",
      "\u001b[K     |████████████████████████████████| 776.8MB 22kB/s \n",
      "\u001b[?25hRequirement already satisfied: matplotlib>=2.2.3 in /usr/local/lib/python3.7/dist-packages (from flair) (3.2.2)\n",
      "Collecting langdetect\n",
      "\u001b[?25l  Downloading https://files.pythonhosted.org/packages/0e/72/a3add0e4eec4eb9e2569554f7c70f4a3c27712f40e3284d483e88094cc0e/langdetect-1.0.9.tar.gz (981kB)\n",
      "\u001b[K     |████████████████████████████████| 983kB 31.4MB/s \n",
      "\u001b[?25hCollecting bpemb>=0.3.2\n",
      "  Downloading https://files.pythonhosted.org/packages/f2/6f/9191b85109772636a8f8accb122900c34db26c091d2793218aa94954524c/bpemb-0.3.3-py3-none-any.whl\n",
      "Collecting gdown==3.12.2\n",
      "  Downloading https://files.pythonhosted.org/packages/50/21/92c3cfe56f5c0647145c4b0083d0733dd4890a057eb100a8eeddf949ffe9/gdown-3.12.2.tar.gz\n",
      "  Installing build dependencies ... \u001b[?25l\u001b[?25hdone\n",
      "  Getting requirements to build wheel ... \u001b[?25l\u001b[?25hdone\n",
      "    Preparing wheel metadata ... \u001b[?25l\u001b[?25hdone\n",
      "Collecting mpld3==0.3\n",
      "\u001b[?25l  Downloading https://files.pythonhosted.org/packages/91/95/a52d3a83d0a29ba0d6898f6727e9858fe7a43f6c2ce81a5fe7e05f0f4912/mpld3-0.3.tar.gz (788kB)\n",
      "\u001b[K     |████████████████████████████████| 798kB 29.5MB/s \n",
      "\u001b[?25hRequirement already satisfied: hyperopt>=0.1.1 in /usr/local/lib/python3.7/dist-packages (from flair) (0.1.2)\n",
      "Requirement already satisfied: numpy<1.20.0 in /usr/local/lib/python3.7/dist-packages (from flair) (1.19.5)\n",
      "Collecting konoha<5.0.0,>=4.0.0\n",
      "  Downloading https://files.pythonhosted.org/packages/02/be/4dd30d56a0a19619deb9bf41ba8202709fa83b1b301b876572cd6dc38117/konoha-4.6.4-py3-none-any.whl\n",
      "Collecting ftfy\n",
      "\u001b[?25l  Downloading https://files.pythonhosted.org/packages/ce/b5/5da463f9c7823e0e575e9908d004e2af4b36efa8d02d3d6dad57094fcb11/ftfy-6.0.1.tar.gz (63kB)\n",
      "\u001b[K     |████████████████████████████████| 71kB 8.7MB/s \n",
      "\u001b[?25hCollecting huggingface-hub\n",
      "  Downloading https://files.pythonhosted.org/packages/a1/88/7b1e45720ecf59c6c6737ff332f41c955963090a18e72acbcbeac6b25e86/huggingface_hub-0.0.8-py3-none-any.whl\n",
      "Collecting sentencepiece==0.1.95\n",
      "\u001b[?25l  Downloading https://files.pythonhosted.org/packages/f5/99/e0808cb947ba10f575839c43e8fafc9cc44e4a7a2c8f79c60db48220a577/sentencepiece-0.1.95-cp37-cp37m-manylinux2014_x86_64.whl (1.2MB)\n",
      "\u001b[K     |████████████████████████████████| 1.2MB 31.6MB/s \n",
      "\u001b[?25hRequirement already satisfied: tqdm>=4.26.0 in /usr/local/lib/python3.7/dist-packages (from flair) (4.41.1)\n",
      "Collecting deprecated>=1.2.4\n",
      "  Downloading https://files.pythonhosted.org/packages/fb/73/994edfcba74443146c84b91921fcc269374354118d4f452fb0c54c1cbb12/Deprecated-1.2.12-py2.py3-none-any.whl\n",
      "Collecting janome\n",
      "\u001b[?25l  Downloading https://files.pythonhosted.org/packages/a8/63/98858cbead27df7536c7e300c169da0999e9704d02220dc6700b804eeff0/Janome-0.4.1-py2.py3-none-any.whl (19.7MB)\n",
      "\u001b[K     |████████████████████████████████| 19.7MB 1.3MB/s \n",
      "\u001b[?25hRequirement already satisfied: scikit-learn>=0.21.3 in /usr/local/lib/python3.7/dist-packages (from flair) (0.22.2.post1)\n",
      "Requirement already satisfied: tabulate in /usr/local/lib/python3.7/dist-packages (from flair) (0.8.9)\n",
      "Requirement already satisfied: regex in /usr/local/lib/python3.7/dist-packages (from flair) (2019.12.20)\n",
      "Requirement already satisfied: python-dateutil>=2.6.1 in /usr/local/lib/python3.7/dist-packages (from flair) (2.8.1)\n",
      "Collecting sqlitedict>=1.6.0\n",
      "  Downloading https://files.pythonhosted.org/packages/5c/2d/b1d99e9ad157dd7de9cd0d36a8a5876b13b55e4b75f7498bc96035fb4e96/sqlitedict-1.7.0.tar.gz\n",
      "Collecting segtok>=1.5.7\n",
      "  Downloading https://files.pythonhosted.org/packages/41/08/582dab5f4b1d5ca23bc6927b4bb977c8ff7f3a87a3b98844ef833e2f5623/segtok-1.5.10.tar.gz\n",
      "Requirement already satisfied: lxml in /usr/local/lib/python3.7/dist-packages (from flair) (4.2.6)\n",
      "Requirement already satisfied: gensim<=3.8.3,>=3.4.0 in /usr/local/lib/python3.7/dist-packages (from flair) (3.6.0)\n",
      "Requirement already satisfied: filelock in /usr/local/lib/python3.7/dist-packages (from transformers>=4.0.0->flair) (3.0.12)\n",
      "Collecting sacremoses\n",
      "\u001b[?25l  Downloading https://files.pythonhosted.org/packages/75/ee/67241dc87f266093c533a2d4d3d69438e57d7a90abb216fa076e7d475d4a/sacremoses-0.0.45-py3-none-any.whl (895kB)\n",
      "\u001b[K     |████████████████████████████████| 901kB 33.5MB/s \n",
      "\u001b[?25hRequirement already satisfied: importlib-metadata; python_version < \"3.8\" in /usr/local/lib/python3.7/dist-packages (from transformers>=4.0.0->flair) (3.10.1)\n",
      "Collecting tokenizers<0.11,>=0.10.1\n",
      "\u001b[?25l  Downloading https://files.pythonhosted.org/packages/ae/04/5b870f26a858552025a62f1649c20d29d2672c02ff3c3fb4c688ca46467a/tokenizers-0.10.2-cp37-cp37m-manylinux2010_x86_64.whl (3.3MB)\n",
      "\u001b[K     |████████████████████████████████| 3.3MB 20.7MB/s \n",
      "\u001b[?25hRequirement already satisfied: requests in /usr/local/lib/python3.7/dist-packages (from transformers>=4.0.0->flair) (2.23.0)\n",
      "Requirement already satisfied: packaging in /usr/local/lib/python3.7/dist-packages (from transformers>=4.0.0->flair) (20.9)\n",
      "Requirement already satisfied: typing-extensions in /usr/local/lib/python3.7/dist-packages (from torch<=1.7.1,>=1.5.0->flair) (3.7.4.3)\n",
      "Requirement already satisfied: pyparsing!=2.0.4,!=2.1.2,!=2.1.6,>=2.0.1 in /usr/local/lib/python3.7/dist-packages (from matplotlib>=2.2.3->flair) (2.4.7)\n",
      "Requirement already satisfied: kiwisolver>=1.0.1 in /usr/local/lib/python3.7/dist-packages (from matplotlib>=2.2.3->flair) (1.3.1)\n",
      "Requirement already satisfied: cycler>=0.10 in /usr/local/lib/python3.7/dist-packages (from matplotlib>=2.2.3->flair) (0.10.0)\n",
      "Requirement already satisfied: six in /usr/local/lib/python3.7/dist-packages (from langdetect->flair) (1.15.0)\n",
      "Requirement already satisfied: future in /usr/local/lib/python3.7/dist-packages (from hyperopt>=0.1.1->flair) (0.16.0)\n",
      "Requirement already satisfied: pymongo in /usr/local/lib/python3.7/dist-packages (from hyperopt>=0.1.1->flair) (3.11.3)\n",
      "Requirement already satisfied: scipy in /usr/local/lib/python3.7/dist-packages (from hyperopt>=0.1.1->flair) (1.4.1)\n",
      "Requirement already satisfied: networkx in /usr/local/lib/python3.7/dist-packages (from hyperopt>=0.1.1->flair) (2.5.1)\n",
      "Collecting overrides<4.0.0,>=3.0.0\n",
      "  Downloading https://files.pythonhosted.org/packages/ff/b1/10f69c00947518e6676bbd43e739733048de64b8dd998e9c2d5a71f44c5d/overrides-3.1.0.tar.gz\n",
      "Requirement already satisfied: wcwidth in /usr/local/lib/python3.7/dist-packages (from ftfy->flair) (0.2.5)\n",
      "Requirement already satisfied: wrapt<2,>=1.10 in /usr/local/lib/python3.7/dist-packages (from deprecated>=1.2.4->flair) (1.12.1)\n",
      "Requirement already satisfied: joblib>=0.11 in /usr/local/lib/python3.7/dist-packages (from scikit-learn>=0.21.3->flair) (1.0.1)\n",
      "Requirement already satisfied: smart-open>=1.2.1 in /usr/local/lib/python3.7/dist-packages (from gensim<=3.8.3,>=3.4.0->flair) (5.0.0)\n",
      "Requirement already satisfied: click in /usr/local/lib/python3.7/dist-packages (from sacremoses->transformers>=4.0.0->flair) (7.1.2)\n",
      "Requirement already satisfied: zipp>=0.5 in /usr/local/lib/python3.7/dist-packages (from importlib-metadata; python_version < \"3.8\"->transformers>=4.0.0->flair) (3.4.1)\n",
      "Requirement already satisfied: chardet<4,>=3.0.2 in /usr/local/lib/python3.7/dist-packages (from requests->transformers>=4.0.0->flair) (3.0.4)\n",
      "Requirement already satisfied: idna<3,>=2.5 in /usr/local/lib/python3.7/dist-packages (from requests->transformers>=4.0.0->flair) (2.10)\n",
      "Requirement already satisfied: urllib3!=1.25.0,!=1.25.1,<1.26,>=1.21.1 in /usr/local/lib/python3.7/dist-packages (from requests->transformers>=4.0.0->flair) (1.24.3)\n",
      "Requirement already satisfied: certifi>=2017.4.17 in /usr/local/lib/python3.7/dist-packages (from requests->transformers>=4.0.0->flair) (2020.12.5)\n",
      "Requirement already satisfied: decorator<5,>=4.3 in /usr/local/lib/python3.7/dist-packages (from networkx->hyperopt>=0.1.1->flair) (4.4.2)\n",
      "Building wheels for collected packages: gdown\n",
      "  Building wheel for gdown (PEP 517) ... \u001b[?25l\u001b[?25hdone\n",
      "  Created wheel for gdown: filename=gdown-3.12.2-cp37-none-any.whl size=9693 sha256=4113b08a0d4fcc4b2f229722f461bb5f0cb6be16df5214133f153ceef6c0b94c\n",
      "  Stored in directory: /root/.cache/pip/wheels/81/d0/d7/d9983facc6f2775411803e0e2d30ebf98efbf2fc6e57701e09\n",
      "Successfully built gdown\n",
      "Building wheels for collected packages: langdetect, mpld3, ftfy, sqlitedict, segtok, overrides\n",
      "  Building wheel for langdetect (setup.py) ... \u001b[?25l\u001b[?25hdone\n",
      "  Created wheel for langdetect: filename=langdetect-1.0.9-cp37-none-any.whl size=993223 sha256=6ce6e2ca36ed3971e86abe03187cbb67377b5d513fb6f7e6366d5b2ab52e3cb2\n",
      "  Stored in directory: /root/.cache/pip/wheels/7e/18/13/038c34057808931c7ddc6c92d3aa015cf1a498df5a70268996\n",
      "  Building wheel for mpld3 (setup.py) ... \u001b[?25l\u001b[?25hdone\n",
      "  Created wheel for mpld3: filename=mpld3-0.3-cp37-none-any.whl size=116679 sha256=e96598ab4403040916ae918e3418828b8a39c7e5795c1956e69101f0e403aa5c\n",
      "  Stored in directory: /root/.cache/pip/wheels/c0/47/fb/8a64f89aecfe0059830479308ad42d62e898a3e3cefdf6ba28\n",
      "  Building wheel for ftfy (setup.py) ... \u001b[?25l\u001b[?25hdone\n",
      "  Created wheel for ftfy: filename=ftfy-6.0.1-cp37-none-any.whl size=41573 sha256=1449be33a98edde555b9ea00838e2975b561d235d5ca5ec0f35a7ff68314278c\n",
      "  Stored in directory: /root/.cache/pip/wheels/ae/73/c7/9056e14b04919e5c262fe80b54133b1a88d73683d05d7ac65c\n",
      "  Building wheel for sqlitedict (setup.py) ... \u001b[?25l\u001b[?25hdone\n",
      "  Created wheel for sqlitedict: filename=sqlitedict-1.7.0-cp37-none-any.whl size=14376 sha256=f42f18fb3528e0fd5fdb6c146cbb0dc4aa47e215667714c763f19595f08d5d56\n",
      "  Stored in directory: /root/.cache/pip/wheels/cf/c6/4f/2c64a43f041415eb8b8740bd80e15e92f0d46c5e464d8e4b9b\n",
      "  Building wheel for segtok (setup.py) ... \u001b[?25l\u001b[?25hdone\n",
      "  Created wheel for segtok: filename=segtok-1.5.10-cp37-none-any.whl size=25019 sha256=9fb065f69b34e85d402618cf20f32dab587fdc269036be8b8ecbb4e41091d8e4\n",
      "  Stored in directory: /root/.cache/pip/wheels/b4/39/f6/9ca1c5cabde964d728023b5751c3a206a5c8cc40252321fb6b\n",
      "  Building wheel for overrides (setup.py) ... \u001b[?25l\u001b[?25hdone\n",
      "  Created wheel for overrides: filename=overrides-3.1.0-cp37-none-any.whl size=10174 sha256=ebc8777e1ecf4204f0e94defd51b5159bc81f1cf1b675c92903798b16a111ea9\n",
      "  Stored in directory: /root/.cache/pip/wheels/5c/24/13/6ef8600e6f147c95e595f1289a86a3cc82ed65df57582c65a9\n",
      "Successfully built langdetect mpld3 ftfy sqlitedict segtok overrides\n",
      "\u001b[31mERROR: torchvision 0.9.1+cu101 has requirement torch==1.8.1, but you'll have torch 1.7.1 which is incompatible.\u001b[0m\n",
      "\u001b[31mERROR: torchtext 0.9.1 has requirement torch==1.8.1, but you'll have torch 1.7.1 which is incompatible.\u001b[0m\n",
      "\u001b[31mERROR: konoha 4.6.4 has requirement requests<3.0.0,>=2.25.1, but you'll have requests 2.23.0 which is incompatible.\u001b[0m\n",
      "Installing collected packages: sacremoses, tokenizers, transformers, torch, langdetect, sentencepiece, bpemb, gdown, mpld3, overrides, konoha, ftfy, huggingface-hub, deprecated, janome, sqlitedict, segtok, flair\n",
      "  Found existing installation: torch 1.8.1+cu101\n",
      "    Uninstalling torch-1.8.1+cu101:\n",
      "      Successfully uninstalled torch-1.8.1+cu101\n",
      "  Found existing installation: gdown 3.6.4\n",
      "    Uninstalling gdown-3.6.4:\n",
      "      Successfully uninstalled gdown-3.6.4\n",
      "Successfully installed bpemb-0.3.3 deprecated-1.2.12 flair-0.8.0.post1 ftfy-6.0.1 gdown-3.12.2 huggingface-hub-0.0.8 janome-0.4.1 konoha-4.6.4 langdetect-1.0.9 mpld3-0.3 overrides-3.1.0 sacremoses-0.0.45 segtok-1.5.10 sentencepiece-0.1.95 sqlitedict-1.7.0 tokenizers-0.10.2 torch-1.7.1 transformers-4.5.1\n"
     ]
    }
   ],
   "source": [
    "pip install flair"
   ]
  },
  {
   "cell_type": "code",
   "execution_count": null,
   "metadata": {
    "id": "2oei5EuZfhfQ"
   },
   "outputs": [],
   "source": [
    "from flair.data import Sentence\n",
    "from flair.models import SequenceTagger"
   ]
  },
  {
   "cell_type": "code",
   "execution_count": null,
   "metadata": {
    "colab": {
     "base_uri": "https://localhost:8080/",
     "height": 188,
     "referenced_widgets": [
      "b9cfe46a82b54df3b1adf7d3b3984836",
      "e1416b49e7d54376945415770c4ba551",
      "f796b30640e74e4fb91081687c1826dc",
      "43abbbe9212c48d1b214cda44084bd59",
      "4f3840759105430b9361df0c4526dbac",
      "6919b336f1b144cc8b09df2060f4f930",
      "fb2ae88d16b8492eae5bd093ffa1cb7b",
      "f2f7c949500041e9ad0946063439e5b8"
     ]
    },
    "id": "kX4s8GgTlqHK",
    "outputId": "d82eb24a-c6b7-4ff1-eb5f-00f026213a27"
   },
   "outputs": [
    {
     "name": "stdout",
     "output_type": "stream",
     "text": [
      "2021-05-11 20:49:54,799 --------------------------------------------------------------------------------\n",
      "2021-05-11 20:49:54,800 The model key 'ner' now maps to 'https://huggingface.co/flair/ner-english' on the HuggingFace ModelHub\n",
      "2021-05-11 20:49:54,805  - The most current version of the model is automatically downloaded from there.\n",
      "2021-05-11 20:49:54,807  - (you can alternatively manually download the original model at https://nlp.informatik.hu-berlin.de/resources/models/ner/en-ner-conll03-v0.4.pt)\n",
      "2021-05-11 20:49:54,809 --------------------------------------------------------------------------------\n"
     ]
    },
    {
     "data": {
      "application/vnd.jupyter.widget-view+json": {
       "model_id": "b9cfe46a82b54df3b1adf7d3b3984836",
       "version_major": 2,
       "version_minor": 0
      },
      "text/plain": [
       "HBox(children=(FloatProgress(value=0.0, description='Downloading', max=432176557.0, style=ProgressStyle(descri…"
      ]
     },
     "metadata": {
      "tags": []
     },
     "output_type": "display_data"
    },
    {
     "name": "stdout",
     "output_type": "stream",
     "text": [
      "\n",
      "2021-05-11 20:50:06,241 loading file /root/.flair/models/ner-english/4f4cdab26f24cb98b732b389e6cebc646c36f54cfd6e0b7d3b90b25656e4262f.8baa8ae8795f4df80b28e7f7b61d788ecbb057d1dc85aacb316f1bd02837a4a4\n"
     ]
    }
   ],
   "source": [
    "tagger = SequenceTagger.load('ner')"
   ]
  },
  {
   "cell_type": "code",
   "execution_count": null,
   "metadata": {
    "id": "5FaETghjiOub"
   },
   "outputs": [],
   "source": [
    "temp_text = \"how are you after all in Ranchi?\""
   ]
  },
  {
   "cell_type": "code",
   "execution_count": null,
   "metadata": {
    "id": "m7zdgpWMijzW"
   },
   "outputs": [],
   "source": [
    "sentence = Sentence(temp_text)"
   ]
  },
  {
   "cell_type": "code",
   "execution_count": null,
   "metadata": {
    "id": "1NL5hb1QmB91"
   },
   "outputs": [],
   "source": [
    "# predict NER tags\n",
    "tagger.predict(sentence)"
   ]
  },
  {
   "cell_type": "code",
   "execution_count": null,
   "metadata": {
    "colab": {
     "base_uri": "https://localhost:8080/"
    },
    "id": "Zonz8wU9gw6B",
    "outputId": "87c08f07-fa47-4b5f-99dc-3ada763eb3af"
   },
   "outputs": [
    {
     "name": "stdout",
     "output_type": "stream",
     "text": [
      "how are you after all in Ranchi <S-LOC> ?\n"
     ]
    }
   ],
   "source": [
    "# print sentence with predicted tags\n",
    "print(sentence.to_tagged_string())"
   ]
  },
  {
   "cell_type": "code",
   "execution_count": null,
   "metadata": {
    "colab": {
     "base_uri": "https://localhost:8080/"
    },
    "id": "-JeCXo5umH6m",
    "outputId": "3e187cf5-1a93-4104-c034-271d27f47a53"
   },
   "outputs": [
    {
     "name": "stdout",
     "output_type": "stream",
     "text": [
      "Span [7]: \"Ranchi\"   [− Labels: LOC (0.9994)]\n"
     ]
    }
   ],
   "source": [
    "for entity in sentence.get_spans('ner'):\n",
    "    print(entity)"
   ]
  },
  {
   "cell_type": "code",
   "execution_count": null,
   "metadata": {
    "colab": {
     "base_uri": "https://localhost:8080/",
     "height": 290,
     "referenced_widgets": [
      "ec43b6d0f3cc4baabf38deca97ce2ef6",
      "68b26325c974478eaf4c8eff196b34f5",
      "13f186e908e244d28895f7c48480a7a7",
      "8220a03685a64b63aea981eef5293467",
      "1e07af237fc94684b488c342f6cb0564",
      "0577e9c3dde846faa334e5471c277110",
      "44b0cfe9e37f4bf481a267264a5bbe09",
      "40131c96d5f54e27bef6fff0eee56671"
     ]
    },
    "id": "Kz-RTs12mrz-",
    "outputId": "a9f80372-2000-46b3-adca-cd29e7f7e238"
   },
   "outputs": [
    {
     "name": "stdout",
     "output_type": "stream",
     "text": [
      "2021-05-11 20:50:09,100 --------------------------------------------------------------------------------\n",
      "2021-05-11 20:50:09,103 The model key 'pos' now maps to 'https://huggingface.co/flair/pos-english' on the HuggingFace ModelHub\n",
      "2021-05-11 20:50:09,106  - The most current version of the model is automatically downloaded from there.\n",
      "2021-05-11 20:50:09,107  - (you can alternatively manually download the original model at https://nlp.informatik.hu-berlin.de/resources/models/pos/en-pos-ontonotes-v0.5.pt)\n",
      "2021-05-11 20:50:09,109 --------------------------------------------------------------------------------\n"
     ]
    },
    {
     "data": {
      "application/vnd.jupyter.widget-view+json": {
       "model_id": "ec43b6d0f3cc4baabf38deca97ce2ef6",
       "version_major": 2,
       "version_minor": 0
      },
      "text/plain": [
       "HBox(children=(FloatProgress(value=0.0, description='Downloading', max=249072763.0, style=ProgressStyle(descri…"
      ]
     },
     "metadata": {
      "tags": []
     },
     "output_type": "display_data"
    },
    {
     "name": "stdout",
     "output_type": "stream",
     "text": [
      "\n",
      "2021-05-11 20:50:32,888 loading file /root/.flair/models/pos-english/a9a73f6cd878edce8a0fa518db76f441f1cc49c2525b2b4557af278ec2f0659e.121306ea62993d04cd1978398b68396931a39eb47754c8a06a87f325ea70ac63\n",
      "2021-05-11 20:50:33,340 --------------------------------------------------------------------------------\n",
      "2021-05-11 20:50:33,342 The model key 'ner' now maps to 'https://huggingface.co/flair/ner-english' on the HuggingFace ModelHub\n",
      "2021-05-11 20:50:33,348  - The most current version of the model is automatically downloaded from there.\n",
      "2021-05-11 20:50:33,356  - (you can alternatively manually download the original model at https://nlp.informatik.hu-berlin.de/resources/models/ner/en-ner-conll03-v0.4.pt)\n",
      "2021-05-11 20:50:33,363 --------------------------------------------------------------------------------\n",
      "2021-05-11 20:50:34,202 loading file /root/.flair/models/ner-english/4f4cdab26f24cb98b732b389e6cebc646c36f54cfd6e0b7d3b90b25656e4262f.8baa8ae8795f4df80b28e7f7b61d788ecbb057d1dc85aacb316f1bd02837a4a4\n"
     ]
    }
   ],
   "source": [
    "from flair.models import MultiTagger\n",
    "\n",
    "# load tagger for POS and NER \n",
    "tagger = MultiTagger.load(['pos', 'ner'])"
   ]
  },
  {
   "cell_type": "code",
   "execution_count": null,
   "metadata": {
    "colab": {
     "base_uri": "https://localhost:8080/"
    },
    "id": "Drwy_E5fmaFy",
    "outputId": "51d84257-718e-49e1-fa7b-0bd711664728"
   },
   "outputs": [
    {
     "name": "stdout",
     "output_type": "stream",
     "text": [
      "Sentence: \"George Washington went to Washington .\"   [− Tokens: 6  − Token-Labels: \"George <NNP/B-PER> Washington <NNP/E-PER> went <VBD> to <IN> Washington <NNP/S-LOC> . <.>\"]\n"
     ]
    }
   ],
   "source": [
    "# make example sentence\n",
    "sentence = Sentence(\"George Washington went to Washington.\")\n",
    "\n",
    "# predict with both models\n",
    "tagger.predict(sentence)\n",
    "\n",
    "print(sentence)"
   ]
  },
  {
   "cell_type": "code",
   "execution_count": null,
   "metadata": {
    "colab": {
     "base_uri": "https://localhost:8080/"
    },
    "id": "cc-uYB_wm0wu",
    "outputId": "f420d253-4f2d-4fc2-fc5f-644f284a1f2f"
   },
   "outputs": [
    {
     "name": "stdout",
     "output_type": "stream",
     "text": [
      "Sentence: \"how are you after all in Ranchi ?\"   [− Tokens: 8  − Token-Labels: \"how <WRB> are <VBP> you <PRP> after <RB> all <RB> in <IN> Ranchi <NNP/S-LOC> ? <.>\"]\n"
     ]
    }
   ],
   "source": [
    "sentence = Sentence(temp_text)\n",
    "tagger.predict(sentence)\n",
    "print(sentence)"
   ]
  },
  {
   "cell_type": "code",
   "execution_count": null,
   "metadata": {
    "colab": {
     "base_uri": "https://localhost:8080/"
    },
    "id": "BXpXnv4knQ6j",
    "outputId": "0557be1d-0ce2-4446-b0d1-8f55913c67aa"
   },
   "outputs": [
    {
     "name": "stdout",
     "output_type": "stream",
     "text": [
      "Sentence: \"Greywhiskers twitched his tail with scorn ; he was quite sure he knew how to take care of himself , and he did n’t mean to trot meekly after his mother ’s tail all his life . So as soon as she had curled herself up for an afternoon nap he stole away , and scampered across the pantry shelves .\"   [− Tokens: 61  − Token-Labels: \"Greywhiskers <NNP/S-PER> twitched <VBD> his <PRP$> tail <NN> with <IN> scorn <NN> ; <:> he <PRP> was <VBD> quite <RB> sure <JJ> he <PRP> knew <VBD> how <WRB> to <TO> take <VB> care <NN> of <IN> himself <PRP> , <,> and <CC> he <PRP> did <VBD> n’t <RB> mean <VB> to <TO> trot <VB> meekly <RB> after <IN> his <PRP$> mother <NN> ’s <VBZ> tail <NN> all <PDT> his <PRP$> life <NN> . <,> So <RB> as <RB> soon <RB> as <IN> she <PRP> had <VBD> curled <VBN> herself <PRP> up <RP> for <IN> an <DT> afternoon <NN> nap <NN> he <PRP> stole <VBD> away <RB> , <,> and <CC> scampered <VBD> across <IN> the <DT> pantry <NN> shelves <NNS> . <.>\"]\n"
     ]
    }
   ],
   "source": [
    "sentence = Sentence(\"Greywhiskers twitched his tail with scorn; he was quite sure he knew how to take care of himself, and he didn’t mean to trot meekly after his mother’s tail all his life. So as soon as she had curled herself up for an afternoon nap he stole away, and scampered across the pantry shelves.\")\n",
    "tagger.predict(sentence)\n",
    "print(sentence)"
   ]
  },
  {
   "cell_type": "code",
   "execution_count": null,
   "metadata": {
    "colab": {
     "base_uri": "https://localhost:8080/"
    },
    "id": "OEP5jVRALy9x",
    "outputId": "fd5ba47f-77b2-494d-cf71-daf4d35517a0"
   },
   "outputs": [
    {
     "name": "stdout",
     "output_type": "stream",
     "text": [
      "Span [1]: \"Greywhiskers\"   [− Labels: NNP (0.9269)]\n",
      "Span [2]: \"twitched\"   [− Labels: VBD (1.0)]\n",
      "Span [3]: \"his\"   [− Labels: PRP$ (1.0)]\n",
      "Span [4]: \"tail\"   [− Labels: NN (0.9998)]\n",
      "Span [5]: \"with\"   [− Labels: IN (1.0)]\n",
      "Span [6]: \"scorn\"   [− Labels: NN (0.9993)]\n",
      "Span [7]: \";\"   [− Labels: : (0.9661)]\n",
      "Span [8]: \"he\"   [− Labels: PRP (1.0)]\n",
      "Span [9]: \"was\"   [− Labels: VBD (1.0)]\n",
      "Span [10]: \"quite\"   [− Labels: RB (0.9978)]\n",
      "Span [11]: \"sure\"   [− Labels: JJ (1.0)]\n",
      "Span [12]: \"he\"   [− Labels: PRP (1.0)]\n",
      "Span [13]: \"knew\"   [− Labels: VBD (1.0)]\n",
      "Span [14]: \"how\"   [− Labels: WRB (1.0)]\n",
      "Span [15]: \"to\"   [− Labels: TO (1.0)]\n",
      "Span [16]: \"take\"   [− Labels: VB (1.0)]\n",
      "Span [17]: \"care\"   [− Labels: NN (1.0)]\n",
      "Span [18]: \"of\"   [− Labels: IN (1.0)]\n",
      "Span [19]: \"himself\"   [− Labels: PRP (1.0)]\n",
      "Span [20]: \",\"   [− Labels: , (1.0)]\n",
      "Span [21]: \"and\"   [− Labels: CC (1.0)]\n",
      "Span [22]: \"he\"   [− Labels: PRP (1.0)]\n",
      "Span [23]: \"did\"   [− Labels: VBD (1.0)]\n",
      "Span [24]: \"n’t\"   [− Labels: RB (1.0)]\n",
      "Span [25]: \"mean\"   [− Labels: VB (1.0)]\n",
      "Span [26]: \"to\"   [− Labels: TO (0.9947)]\n",
      "Span [27]: \"trot\"   [− Labels: VB (0.9999)]\n",
      "Span [28]: \"meekly\"   [− Labels: RB (1.0)]\n",
      "Span [29]: \"after\"   [− Labels: IN (0.9999)]\n",
      "Span [30]: \"his\"   [− Labels: PRP$ (1.0)]\n",
      "Span [31]: \"mother\"   [− Labels: NN (1.0)]\n",
      "Span [32]: \"’s\"   [− Labels: VBZ (0.9993)]\n",
      "Span [33]: \"tail\"   [− Labels: NN (0.9922)]\n",
      "Span [34]: \"all\"   [− Labels: PDT (0.872)]\n",
      "Span [35]: \"his\"   [− Labels: PRP$ (1.0)]\n",
      "Span [36]: \"life\"   [− Labels: NN (1.0)]\n",
      "Span [37]: \".\"   [− Labels: , (0.6007)]\n",
      "Span [38]: \"So\"   [− Labels: RB (0.9679)]\n",
      "Span [39]: \"as\"   [− Labels: RB (1.0)]\n",
      "Span [40]: \"soon\"   [− Labels: RB (0.9997)]\n",
      "Span [41]: \"as\"   [− Labels: IN (1.0)]\n",
      "Span [42]: \"she\"   [− Labels: PRP (1.0)]\n",
      "Span [43]: \"had\"   [− Labels: VBD (1.0)]\n",
      "Span [44]: \"curled\"   [− Labels: VBN (0.994)]\n",
      "Span [45]: \"herself\"   [− Labels: PRP (1.0)]\n",
      "Span [46]: \"up\"   [− Labels: RP (0.9985)]\n",
      "Span [47]: \"for\"   [− Labels: IN (1.0)]\n",
      "Span [48]: \"an\"   [− Labels: DT (1.0)]\n",
      "Span [49]: \"afternoon\"   [− Labels: NN (1.0)]\n",
      "Span [50]: \"nap\"   [− Labels: NN (1.0)]\n",
      "Span [51]: \"he\"   [− Labels: PRP (1.0)]\n",
      "Span [52]: \"stole\"   [− Labels: VBD (1.0)]\n",
      "Span [53]: \"away\"   [− Labels: RB (0.9098)]\n",
      "Span [54]: \",\"   [− Labels: , (1.0)]\n",
      "Span [55]: \"and\"   [− Labels: CC (1.0)]\n",
      "Span [56]: \"scampered\"   [− Labels: VBD (0.9994)]\n",
      "Span [57]: \"across\"   [− Labels: IN (1.0)]\n",
      "Span [58]: \"the\"   [− Labels: DT (1.0)]\n",
      "Span [59]: \"pantry\"   [− Labels: NN (1.0)]\n",
      "Span [60]: \"shelves\"   [− Labels: NNS (1.0)]\n",
      "Span [61]: \".\"   [− Labels: . (1.0)]\n"
     ]
    }
   ],
   "source": [
    "for entity in sentence.get_spans('pos'):\n",
    "    print(entity)"
   ]
  },
  {
   "cell_type": "code",
   "execution_count": null,
   "metadata": {
    "colab": {
     "base_uri": "https://localhost:8080/"
    },
    "id": "hf7pATHlMk37",
    "outputId": "efef1f22-458b-410b-b362-2b28134147ba"
   },
   "outputs": [
    {
     "name": "stdout",
     "output_type": "stream",
     "text": [
      "Span [1]: \"Temperature\"   [− Labels: NN (0.9868)]\n",
      "[NN (0.9868)]\n",
      "Span [2]: \"of\"   [− Labels: IN (1.0)]\n",
      "[IN (1.0)]\n",
      "Span [3]: \"New\"   [− Labels: NNP (1.0)]\n",
      "[NNP (1.0)]\n",
      "Span [4]: \"York\"   [− Labels: NNP (1.0)]\n",
      "[NNP (1.0)]\n",
      "Span [5]: \".\"   [− Labels: . (1.0)]\n",
      "[. (1.0)]\n",
      "Span [1]: \"Here\"   [− Labels: RB (1.0)]\n",
      "[RB (1.0)]\n",
      "Span [2]: \"Temperature\"   [− Labels: NN (0.9822)]\n",
      "[NN (0.9822)]\n",
      "Span [3]: \"is\"   [− Labels: VBZ (1.0)]\n",
      "[VBZ (1.0)]\n",
      "Span [4]: \"the\"   [− Labels: DT (1.0)]\n",
      "[DT (1.0)]\n",
      "Span [5]: \"intention\"   [− Labels: NN (1.0)]\n",
      "[NN (1.0)]\n",
      "Span [6]: \"and\"   [− Labels: CC (1.0)]\n",
      "[CC (1.0)]\n",
      "Span [7]: \"New\"   [− Labels: NNP (1.0)]\n",
      "[NNP (1.0)]\n",
      "Span [8]: \"York\"   [− Labels: NNP (0.9998)]\n",
      "[NNP (0.9998)]\n",
      "Span [9]: \"is\"   [− Labels: VBZ (1.0)]\n",
      "[VBZ (1.0)]\n",
      "Span [10]: \"an\"   [− Labels: DT (1.0)]\n",
      "[DT (1.0)]\n",
      "Span [11]: \"entity\"   [− Labels: NN (0.9998)]\n",
      "[NN (0.9998)]\n",
      "Span [12]: \".\"   [− Labels: . (1.0)]\n",
      "[. (1.0)]\n"
     ]
    }
   ],
   "source": [
    "sentences = [\"Temperature of New York.\", \"Here Temperature is the intention and New York is an entity.\"]\n",
    "pos_tags = []\n",
    "for i in sentences:\n",
    "  sentence = Sentence(i)\n",
    "  tagger.predict(sentence)\n",
    "  for entity in sentence.get_spans('pos'):\n",
    "    pos_tags.append(entity.labels)\n",
    "    print(entity)\n",
    "    print(entity.labels)\n",
    "    #print(Span [1])"
   ]
  },
  {
   "cell_type": "code",
   "execution_count": null,
   "metadata": {
    "colab": {
     "base_uri": "https://localhost:8080/"
    },
    "id": "GZdga6p-M67W",
    "outputId": "1816cd71-e605-4c19-8227-3317d607a2ab"
   },
   "outputs": [
    {
     "data": {
      "text/plain": [
       "NN (0.9868)"
      ]
     },
     "execution_count": 42,
     "metadata": {
      "tags": []
     },
     "output_type": "execute_result"
    }
   ],
   "source": [
    "pos_tags[0][0]"
   ]
  },
  {
   "cell_type": "code",
   "execution_count": null,
   "metadata": {
    "colab": {
     "base_uri": "https://localhost:8080/"
    },
    "id": "ZH7MlME9N5G8",
    "outputId": "6578816e-c86e-46f3-8fdc-5d4eb0d03e95"
   },
   "outputs": [
    {
     "data": {
      "text/plain": [
       "<UH-span (1): \"Hello\">"
      ]
     },
     "execution_count": 21,
     "metadata": {
      "tags": []
     },
     "output_type": "execute_result"
    }
   ],
   "source": [
    "pos_tags[0]"
   ]
  },
  {
   "cell_type": "code",
   "execution_count": null,
   "metadata": {
    "colab": {
     "base_uri": "https://localhost:8080/"
    },
    "id": "Sn2XQR1NUckQ",
    "outputId": "34af6e6b-aac3-4363-81f6-d48f3d84caf0"
   },
   "outputs": [
    {
     "name": "stdout",
     "output_type": "stream",
     "text": [
      "[nltk_data] Downloading package punkt to /root/nltk_data...\n",
      "[nltk_data]   Unzipping tokenizers/punkt.zip.\n"
     ]
    },
    {
     "data": {
      "text/plain": [
       "True"
      ]
     },
     "execution_count": 47,
     "metadata": {
      "tags": []
     },
     "output_type": "execute_result"
    }
   ],
   "source": [
    "import nltk\n",
    "nltk.download('punkt')"
   ]
  },
  {
   "cell_type": "code",
   "execution_count": null,
   "metadata": {
    "colab": {
     "base_uri": "https://localhost:8080/"
    },
    "id": "2aAOaEBYUXvU",
    "outputId": "02180878-dee6-4d4e-9712-3ab327333b58"
   },
   "outputs": [
    {
     "data": {
      "text/plain": [
       "['God', 'is', 'Great', '!', 'I', 'won', 'a', 'lottery', '.']"
      ]
     },
     "execution_count": 50,
     "metadata": {
      "tags": []
     },
     "output_type": "execute_result"
    }
   ],
   "source": [
    "from nltk.tokenize import word_tokenize\n",
    "text = \"God is Great! I won a lottery.\"\n",
    "word = word_tokenize(text)\n",
    "word"
   ]
  },
  {
   "cell_type": "code",
   "execution_count": null,
   "metadata": {
    "colab": {
     "base_uri": "https://localhost:8080/"
    },
    "id": "D8eb0UH_VW6L",
    "outputId": "88e26894-d68d-4e12-e400-910dd8c83a18"
   },
   "outputs": [
    {
     "data": {
      "text/plain": [
       "['God', 'is', 'Great', '!', 'I', 'won', 'a', 'lottery', '.']"
      ]
     },
     "execution_count": 57,
     "metadata": {
      "tags": []
     },
     "output_type": "execute_result"
    }
   ],
   "source": [
    "from nltk.tokenize import TreebankWordTokenizer\n",
    "  \n",
    "tokenizer = TreebankWordTokenizer()\n",
    "tokenizer.tokenize(text)"
   ]
  },
  {
   "cell_type": "code",
   "execution_count": null,
   "metadata": {
    "colab": {
     "base_uri": "https://localhost:8080/",
     "height": 35
    },
    "id": "9FXSwKgsVnRO",
    "outputId": "1bd6588a-5fa2-44b7-91c7-dbc86d74e455"
   },
   "outputs": [
    {
     "data": {
      "application/vnd.google.colaboratory.intrinsic+json": {
       "type": "string"
      },
      "text/plain": [
       "'God is Great! I won a lottery.'"
      ]
     },
     "execution_count": 60,
     "metadata": {
      "tags": []
     },
     "output_type": "execute_result"
    }
   ],
   "source": [
    "text"
   ]
  },
  {
   "cell_type": "code",
   "execution_count": null,
   "metadata": {
    "colab": {
     "base_uri": "https://localhost:8080/"
    },
    "id": "wwuyGzQtVova",
    "outputId": "379012e6-684e-408d-d930-e1ba9ffa8f2b"
   },
   "outputs": [
    {
     "data": {
      "text/plain": [
       "['God', 'is', 'Great!', 'I', 'won', 'a', 'lottery.']"
      ]
     },
     "execution_count": 61,
     "metadata": {
      "tags": []
     },
     "output_type": "execute_result"
    }
   ],
   "source": [
    "text.split()"
   ]
  },
  {
   "cell_type": "code",
   "execution_count": null,
   "metadata": {
    "colab": {
     "base_uri": "https://localhost:8080/"
    },
    "id": "JX8JquVMVuX7",
    "outputId": "99fdb5f7-5e28-4d1a-e1be-262d54632598"
   },
   "outputs": [
    {
     "data": {
      "text/plain": [
       "['God', 'is', 'Great!', 'I', 'won', 'a', 'lottery.']"
      ]
     },
     "execution_count": 62,
     "metadata": {
      "tags": []
     },
     "output_type": "execute_result"
    }
   ],
   "source": [
    "w = text.split()\n",
    "w"
   ]
  },
  {
   "cell_type": "code",
   "execution_count": null,
   "metadata": {
    "id": "nKBzdUGlOKmr"
   },
   "outputs": [],
   "source": [
    "def pos_tagging(sent):\n",
    "\n",
    "  \"\"\"\n",
    "  Input is considered to be a sentence/paragraph which will be integrated with a different function which allows passing of list of sentences\n",
    "  \"\"\"\n",
    "  pos_tags = []\n",
    "  for i in sentences:\n",
    "    sentence = Sentence(i)\n",
    "    tagger.predict(sentence)\n",
    "    for entity in sentence.get_spans('pos'):\n",
    "      pos_tags.append(entity.labels)\n",
    "\n",
    "  words = sent.split()\n",
    "\n",
    "  result = dict(zip(words, pos_tags))\n",
    "\n",
    "  return result\n"
   ]
  },
  {
   "cell_type": "code",
   "execution_count": null,
   "metadata": {
    "colab": {
     "base_uri": "https://localhost:8080/"
    },
    "id": "mPbzUtS7T2yp",
    "outputId": "471d951b-12c9-4ec2-a922-5c79a39ac254"
   },
   "outputs": [
    {
     "data": {
      "text/plain": [
       "{'Here': [NN (0.9868)],\n",
       " 'Ranchi': [NN (0.9822)],\n",
       " 'Temperature': [IN (1.0)],\n",
       " 'an': [DT (1.0)],\n",
       " 'and': [RB (1.0)],\n",
       " 'entity.': [NN (1.0)],\n",
       " 'intention': [. (1.0)],\n",
       " 'is': [VBZ (1.0)],\n",
       " 'the': [NNP (1.0)]}"
      ]
     },
     "execution_count": 66,
     "metadata": {
      "tags": []
     },
     "output_type": "execute_result"
    }
   ],
   "source": [
    "pos_tagging(\"Here Temperature is the intention and Ranchi is an entity.\")"
   ]
  },
  {
   "cell_type": "code",
   "execution_count": null,
   "metadata": {
    "id": "foBPDuJjUEpv"
   },
   "outputs": [],
   "source": [
    "def postags_(list_):\n",
    "\n",
    "  results = []\n",
    "  for sent in list_:\n",
    "    res = pos_tagging(sent)\n",
    "    results.append(res)\n",
    "\n",
    "  return results"
   ]
  },
  {
   "cell_type": "code",
   "execution_count": null,
   "metadata": {
    "colab": {
     "base_uri": "https://localhost:8080/"
    },
    "id": "tJBsm2dObFzE",
    "outputId": "416212d2-6094-46ce-97d2-600913d85d32"
   },
   "outputs": [
    {
     "data": {
      "text/plain": [
       "{'New': [NNP (1.0)],\n",
       " 'Temperature': [NN (0.9868)],\n",
       " 'York.': [NNP (1.0)],\n",
       " 'of': [IN (1.0)]}"
      ]
     },
     "execution_count": 72,
     "metadata": {
      "tags": []
     },
     "output_type": "execute_result"
    }
   ],
   "source": [
    "sen = [\"Temperature of New York.\", \"Here Temperature is the intention and New York is an entity.\"]\n",
    "postags_(sen)[0]"
   ]
  },
  {
   "cell_type": "code",
   "execution_count": null,
   "metadata": {
    "id": "MtvY7LwwbL_M"
   },
   "outputs": [],
   "source": []
  }
 ],
 "metadata": {
  "colab": {
   "collapsed_sections": [],
   "name": "FlairAlgorithmforPOStag.ipynb",
   "provenance": []
  },
  "kernelspec": {
   "display_name": "Python 3",
   "language": "python",
   "name": "python3"
  },
  "language_info": {
   "codemirror_mode": {
    "name": "ipython",
    "version": 3
   },
   "file_extension": ".py",
   "mimetype": "text/x-python",
   "name": "python",
   "nbconvert_exporter": "python",
   "pygments_lexer": "ipython3",
   "version": "3.9.4"
  },
  "widgets": {
   "application/vnd.jupyter.widget-state+json": {
    "0577e9c3dde846faa334e5471c277110": {
     "model_module": "@jupyter-widgets/base",
     "model_name": "LayoutModel",
     "state": {
      "_model_module": "@jupyter-widgets/base",
      "_model_module_version": "1.2.0",
      "_model_name": "LayoutModel",
      "_view_count": null,
      "_view_module": "@jupyter-widgets/base",
      "_view_module_version": "1.2.0",
      "_view_name": "LayoutView",
      "align_content": null,
      "align_items": null,
      "align_self": null,
      "border": null,
      "bottom": null,
      "display": null,
      "flex": null,
      "flex_flow": null,
      "grid_area": null,
      "grid_auto_columns": null,
      "grid_auto_flow": null,
      "grid_auto_rows": null,
      "grid_column": null,
      "grid_gap": null,
      "grid_row": null,
      "grid_template_areas": null,
      "grid_template_columns": null,
      "grid_template_rows": null,
      "height": null,
      "justify_content": null,
      "justify_items": null,
      "left": null,
      "margin": null,
      "max_height": null,
      "max_width": null,
      "min_height": null,
      "min_width": null,
      "object_fit": null,
      "object_position": null,
      "order": null,
      "overflow": null,
      "overflow_x": null,
      "overflow_y": null,
      "padding": null,
      "right": null,
      "top": null,
      "visibility": null,
      "width": null
     }
    },
    "13f186e908e244d28895f7c48480a7a7": {
     "model_module": "@jupyter-widgets/controls",
     "model_name": "FloatProgressModel",
     "state": {
      "_dom_classes": [],
      "_model_module": "@jupyter-widgets/controls",
      "_model_module_version": "1.5.0",
      "_model_name": "FloatProgressModel",
      "_view_count": null,
      "_view_module": "@jupyter-widgets/controls",
      "_view_module_version": "1.5.0",
      "_view_name": "ProgressView",
      "bar_style": "success",
      "description": "Downloading: 100%",
      "description_tooltip": null,
      "layout": "IPY_MODEL_0577e9c3dde846faa334e5471c277110",
      "max": 249072763,
      "min": 0,
      "orientation": "horizontal",
      "style": "IPY_MODEL_1e07af237fc94684b488c342f6cb0564",
      "value": 249072763
     }
    },
    "1e07af237fc94684b488c342f6cb0564": {
     "model_module": "@jupyter-widgets/controls",
     "model_name": "ProgressStyleModel",
     "state": {
      "_model_module": "@jupyter-widgets/controls",
      "_model_module_version": "1.5.0",
      "_model_name": "ProgressStyleModel",
      "_view_count": null,
      "_view_module": "@jupyter-widgets/base",
      "_view_module_version": "1.2.0",
      "_view_name": "StyleView",
      "bar_color": null,
      "description_width": "initial"
     }
    },
    "40131c96d5f54e27bef6fff0eee56671": {
     "model_module": "@jupyter-widgets/base",
     "model_name": "LayoutModel",
     "state": {
      "_model_module": "@jupyter-widgets/base",
      "_model_module_version": "1.2.0",
      "_model_name": "LayoutModel",
      "_view_count": null,
      "_view_module": "@jupyter-widgets/base",
      "_view_module_version": "1.2.0",
      "_view_name": "LayoutView",
      "align_content": null,
      "align_items": null,
      "align_self": null,
      "border": null,
      "bottom": null,
      "display": null,
      "flex": null,
      "flex_flow": null,
      "grid_area": null,
      "grid_auto_columns": null,
      "grid_auto_flow": null,
      "grid_auto_rows": null,
      "grid_column": null,
      "grid_gap": null,
      "grid_row": null,
      "grid_template_areas": null,
      "grid_template_columns": null,
      "grid_template_rows": null,
      "height": null,
      "justify_content": null,
      "justify_items": null,
      "left": null,
      "margin": null,
      "max_height": null,
      "max_width": null,
      "min_height": null,
      "min_width": null,
      "object_fit": null,
      "object_position": null,
      "order": null,
      "overflow": null,
      "overflow_x": null,
      "overflow_y": null,
      "padding": null,
      "right": null,
      "top": null,
      "visibility": null,
      "width": null
     }
    },
    "43abbbe9212c48d1b214cda44084bd59": {
     "model_module": "@jupyter-widgets/controls",
     "model_name": "HTMLModel",
     "state": {
      "_dom_classes": [],
      "_model_module": "@jupyter-widgets/controls",
      "_model_module_version": "1.5.0",
      "_model_name": "HTMLModel",
      "_view_count": null,
      "_view_module": "@jupyter-widgets/controls",
      "_view_module_version": "1.5.0",
      "_view_name": "HTMLView",
      "description": "",
      "description_tooltip": null,
      "layout": "IPY_MODEL_f2f7c949500041e9ad0946063439e5b8",
      "placeholder": "​",
      "style": "IPY_MODEL_fb2ae88d16b8492eae5bd093ffa1cb7b",
      "value": " 432M/432M [00:11&lt;00:00, 38.6MB/s]"
     }
    },
    "44b0cfe9e37f4bf481a267264a5bbe09": {
     "model_module": "@jupyter-widgets/controls",
     "model_name": "DescriptionStyleModel",
     "state": {
      "_model_module": "@jupyter-widgets/controls",
      "_model_module_version": "1.5.0",
      "_model_name": "DescriptionStyleModel",
      "_view_count": null,
      "_view_module": "@jupyter-widgets/base",
      "_view_module_version": "1.2.0",
      "_view_name": "StyleView",
      "description_width": ""
     }
    },
    "4f3840759105430b9361df0c4526dbac": {
     "model_module": "@jupyter-widgets/controls",
     "model_name": "ProgressStyleModel",
     "state": {
      "_model_module": "@jupyter-widgets/controls",
      "_model_module_version": "1.5.0",
      "_model_name": "ProgressStyleModel",
      "_view_count": null,
      "_view_module": "@jupyter-widgets/base",
      "_view_module_version": "1.2.0",
      "_view_name": "StyleView",
      "bar_color": null,
      "description_width": "initial"
     }
    },
    "68b26325c974478eaf4c8eff196b34f5": {
     "model_module": "@jupyter-widgets/base",
     "model_name": "LayoutModel",
     "state": {
      "_model_module": "@jupyter-widgets/base",
      "_model_module_version": "1.2.0",
      "_model_name": "LayoutModel",
      "_view_count": null,
      "_view_module": "@jupyter-widgets/base",
      "_view_module_version": "1.2.0",
      "_view_name": "LayoutView",
      "align_content": null,
      "align_items": null,
      "align_self": null,
      "border": null,
      "bottom": null,
      "display": null,
      "flex": null,
      "flex_flow": null,
      "grid_area": null,
      "grid_auto_columns": null,
      "grid_auto_flow": null,
      "grid_auto_rows": null,
      "grid_column": null,
      "grid_gap": null,
      "grid_row": null,
      "grid_template_areas": null,
      "grid_template_columns": null,
      "grid_template_rows": null,
      "height": null,
      "justify_content": null,
      "justify_items": null,
      "left": null,
      "margin": null,
      "max_height": null,
      "max_width": null,
      "min_height": null,
      "min_width": null,
      "object_fit": null,
      "object_position": null,
      "order": null,
      "overflow": null,
      "overflow_x": null,
      "overflow_y": null,
      "padding": null,
      "right": null,
      "top": null,
      "visibility": null,
      "width": null
     }
    },
    "6919b336f1b144cc8b09df2060f4f930": {
     "model_module": "@jupyter-widgets/base",
     "model_name": "LayoutModel",
     "state": {
      "_model_module": "@jupyter-widgets/base",
      "_model_module_version": "1.2.0",
      "_model_name": "LayoutModel",
      "_view_count": null,
      "_view_module": "@jupyter-widgets/base",
      "_view_module_version": "1.2.0",
      "_view_name": "LayoutView",
      "align_content": null,
      "align_items": null,
      "align_self": null,
      "border": null,
      "bottom": null,
      "display": null,
      "flex": null,
      "flex_flow": null,
      "grid_area": null,
      "grid_auto_columns": null,
      "grid_auto_flow": null,
      "grid_auto_rows": null,
      "grid_column": null,
      "grid_gap": null,
      "grid_row": null,
      "grid_template_areas": null,
      "grid_template_columns": null,
      "grid_template_rows": null,
      "height": null,
      "justify_content": null,
      "justify_items": null,
      "left": null,
      "margin": null,
      "max_height": null,
      "max_width": null,
      "min_height": null,
      "min_width": null,
      "object_fit": null,
      "object_position": null,
      "order": null,
      "overflow": null,
      "overflow_x": null,
      "overflow_y": null,
      "padding": null,
      "right": null,
      "top": null,
      "visibility": null,
      "width": null
     }
    },
    "8220a03685a64b63aea981eef5293467": {
     "model_module": "@jupyter-widgets/controls",
     "model_name": "HTMLModel",
     "state": {
      "_dom_classes": [],
      "_model_module": "@jupyter-widgets/controls",
      "_model_module_version": "1.5.0",
      "_model_name": "HTMLModel",
      "_view_count": null,
      "_view_module": "@jupyter-widgets/controls",
      "_view_module_version": "1.5.0",
      "_view_name": "HTMLView",
      "description": "",
      "description_tooltip": null,
      "layout": "IPY_MODEL_40131c96d5f54e27bef6fff0eee56671",
      "placeholder": "​",
      "style": "IPY_MODEL_44b0cfe9e37f4bf481a267264a5bbe09",
      "value": " 249M/249M [00:23&lt;00:00, 10.5MB/s]"
     }
    },
    "b9cfe46a82b54df3b1adf7d3b3984836": {
     "model_module": "@jupyter-widgets/controls",
     "model_name": "HBoxModel",
     "state": {
      "_dom_classes": [],
      "_model_module": "@jupyter-widgets/controls",
      "_model_module_version": "1.5.0",
      "_model_name": "HBoxModel",
      "_view_count": null,
      "_view_module": "@jupyter-widgets/controls",
      "_view_module_version": "1.5.0",
      "_view_name": "HBoxView",
      "box_style": "",
      "children": [
       "IPY_MODEL_f796b30640e74e4fb91081687c1826dc",
       "IPY_MODEL_43abbbe9212c48d1b214cda44084bd59"
      ],
      "layout": "IPY_MODEL_e1416b49e7d54376945415770c4ba551"
     }
    },
    "e1416b49e7d54376945415770c4ba551": {
     "model_module": "@jupyter-widgets/base",
     "model_name": "LayoutModel",
     "state": {
      "_model_module": "@jupyter-widgets/base",
      "_model_module_version": "1.2.0",
      "_model_name": "LayoutModel",
      "_view_count": null,
      "_view_module": "@jupyter-widgets/base",
      "_view_module_version": "1.2.0",
      "_view_name": "LayoutView",
      "align_content": null,
      "align_items": null,
      "align_self": null,
      "border": null,
      "bottom": null,
      "display": null,
      "flex": null,
      "flex_flow": null,
      "grid_area": null,
      "grid_auto_columns": null,
      "grid_auto_flow": null,
      "grid_auto_rows": null,
      "grid_column": null,
      "grid_gap": null,
      "grid_row": null,
      "grid_template_areas": null,
      "grid_template_columns": null,
      "grid_template_rows": null,
      "height": null,
      "justify_content": null,
      "justify_items": null,
      "left": null,
      "margin": null,
      "max_height": null,
      "max_width": null,
      "min_height": null,
      "min_width": null,
      "object_fit": null,
      "object_position": null,
      "order": null,
      "overflow": null,
      "overflow_x": null,
      "overflow_y": null,
      "padding": null,
      "right": null,
      "top": null,
      "visibility": null,
      "width": null
     }
    },
    "ec43b6d0f3cc4baabf38deca97ce2ef6": {
     "model_module": "@jupyter-widgets/controls",
     "model_name": "HBoxModel",
     "state": {
      "_dom_classes": [],
      "_model_module": "@jupyter-widgets/controls",
      "_model_module_version": "1.5.0",
      "_model_name": "HBoxModel",
      "_view_count": null,
      "_view_module": "@jupyter-widgets/controls",
      "_view_module_version": "1.5.0",
      "_view_name": "HBoxView",
      "box_style": "",
      "children": [
       "IPY_MODEL_13f186e908e244d28895f7c48480a7a7",
       "IPY_MODEL_8220a03685a64b63aea981eef5293467"
      ],
      "layout": "IPY_MODEL_68b26325c974478eaf4c8eff196b34f5"
     }
    },
    "f2f7c949500041e9ad0946063439e5b8": {
     "model_module": "@jupyter-widgets/base",
     "model_name": "LayoutModel",
     "state": {
      "_model_module": "@jupyter-widgets/base",
      "_model_module_version": "1.2.0",
      "_model_name": "LayoutModel",
      "_view_count": null,
      "_view_module": "@jupyter-widgets/base",
      "_view_module_version": "1.2.0",
      "_view_name": "LayoutView",
      "align_content": null,
      "align_items": null,
      "align_self": null,
      "border": null,
      "bottom": null,
      "display": null,
      "flex": null,
      "flex_flow": null,
      "grid_area": null,
      "grid_auto_columns": null,
      "grid_auto_flow": null,
      "grid_auto_rows": null,
      "grid_column": null,
      "grid_gap": null,
      "grid_row": null,
      "grid_template_areas": null,
      "grid_template_columns": null,
      "grid_template_rows": null,
      "height": null,
      "justify_content": null,
      "justify_items": null,
      "left": null,
      "margin": null,
      "max_height": null,
      "max_width": null,
      "min_height": null,
      "min_width": null,
      "object_fit": null,
      "object_position": null,
      "order": null,
      "overflow": null,
      "overflow_x": null,
      "overflow_y": null,
      "padding": null,
      "right": null,
      "top": null,
      "visibility": null,
      "width": null
     }
    },
    "f796b30640e74e4fb91081687c1826dc": {
     "model_module": "@jupyter-widgets/controls",
     "model_name": "FloatProgressModel",
     "state": {
      "_dom_classes": [],
      "_model_module": "@jupyter-widgets/controls",
      "_model_module_version": "1.5.0",
      "_model_name": "FloatProgressModel",
      "_view_count": null,
      "_view_module": "@jupyter-widgets/controls",
      "_view_module_version": "1.5.0",
      "_view_name": "ProgressView",
      "bar_style": "success",
      "description": "Downloading: 100%",
      "description_tooltip": null,
      "layout": "IPY_MODEL_6919b336f1b144cc8b09df2060f4f930",
      "max": 432176557,
      "min": 0,
      "orientation": "horizontal",
      "style": "IPY_MODEL_4f3840759105430b9361df0c4526dbac",
      "value": 432176557
     }
    },
    "fb2ae88d16b8492eae5bd093ffa1cb7b": {
     "model_module": "@jupyter-widgets/controls",
     "model_name": "DescriptionStyleModel",
     "state": {
      "_model_module": "@jupyter-widgets/controls",
      "_model_module_version": "1.5.0",
      "_model_name": "DescriptionStyleModel",
      "_view_count": null,
      "_view_module": "@jupyter-widgets/base",
      "_view_module_version": "1.2.0",
      "_view_name": "StyleView",
      "description_width": ""
     }
    }
   }
  }
 },
 "nbformat": 4,
 "nbformat_minor": 1
}
