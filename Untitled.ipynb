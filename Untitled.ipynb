{
 "cells": [
  {
   "cell_type": "code",
   "execution_count": 1,
   "id": "informational-somewhere",
   "metadata": {},
   "outputs": [
    {
     "ename": "NameError",
     "evalue": "name 'sentences' is not defined",
     "output_type": "error",
     "traceback": [
      "\u001b[0;31m---------------------------------------------------------------------------\u001b[0m",
      "\u001b[0;31mNameError\u001b[0m                                 Traceback (most recent call last)",
      "\u001b[0;32m<ipython-input-1-ef9603a87eef>\u001b[0m in \u001b[0;36m<module>\u001b[0;34m\u001b[0m\n\u001b[1;32m     21\u001b[0m   \u001b[0;32mreturn\u001b[0m \u001b[0mresult\u001b[0m\u001b[0;34m\u001b[0m\u001b[0;34m\u001b[0m\u001b[0m\n\u001b[1;32m     22\u001b[0m \u001b[0;34m\u001b[0m\u001b[0m\n\u001b[0;32m---> 23\u001b[0;31m \u001b[0mpos_tagging\u001b[0m\u001b[0;34m(\u001b[0m\u001b[0;34m\"Pizza delivery by B2H Mart\"\u001b[0m\u001b[0;34m)\u001b[0m\u001b[0;34m\u001b[0m\u001b[0;34m\u001b[0m\u001b[0m\n\u001b[0m",
      "\u001b[0;32m<ipython-input-1-ef9603a87eef>\u001b[0m in \u001b[0;36mpos_tagging\u001b[0;34m(sent)\u001b[0m\n\u001b[1;32m      9\u001b[0m   \"\"\"\n\u001b[1;32m     10\u001b[0m   \u001b[0mpos_tags\u001b[0m \u001b[0;34m=\u001b[0m \u001b[0;34m[\u001b[0m\u001b[0;34m]\u001b[0m\u001b[0;34m\u001b[0m\u001b[0;34m\u001b[0m\u001b[0m\n\u001b[0;32m---> 11\u001b[0;31m   \u001b[0;32mfor\u001b[0m \u001b[0mi\u001b[0m \u001b[0;32min\u001b[0m \u001b[0msentences\u001b[0m\u001b[0;34m:\u001b[0m\u001b[0;34m\u001b[0m\u001b[0;34m\u001b[0m\u001b[0m\n\u001b[0m\u001b[1;32m     12\u001b[0m     \u001b[0msentence\u001b[0m \u001b[0;34m=\u001b[0m \u001b[0mSentence\u001b[0m\u001b[0;34m(\u001b[0m\u001b[0mi\u001b[0m\u001b[0;34m)\u001b[0m\u001b[0;34m\u001b[0m\u001b[0;34m\u001b[0m\u001b[0m\n\u001b[1;32m     13\u001b[0m     \u001b[0mtagger\u001b[0m\u001b[0;34m.\u001b[0m\u001b[0mpredict\u001b[0m\u001b[0;34m(\u001b[0m\u001b[0msentence\u001b[0m\u001b[0;34m)\u001b[0m\u001b[0;34m\u001b[0m\u001b[0;34m\u001b[0m\u001b[0m\n",
      "\u001b[0;31mNameError\u001b[0m: name 'sentences' is not defined"
     ]
    }
   ],
   "source": [
    "def pos_tagging(sent):\n",
    "\n",
    "  \"\"\"\n",
    "  Parameters - sent\n",
    "  Input is considered to be a sentence/paragraph which will be integrated with a different function which allows passing of list of sentences\n",
    "  \n",
    "  Output - result\n",
    "  {word : POS_Tag + % accuracy}\n",
    "  \"\"\"\n",
    "  pos_tags = []\n",
    "  for i in sentences:\n",
    "    sentence = Sentence(i)\n",
    "    tagger.predict(sentence)\n",
    "    for entity in sentence.get_spans('pos'):\n",
    "      pos_tags.append(entity.labels)\n",
    "\n",
    "  words = sent.split()\n",
    "\n",
    "  result = dict(zip(words, pos_tags))\n",
    "\n",
    "  return result\n",
    "\n",
    "pos_tagging(\"Pizza delivery by B2H Mart\")\n"
   ]
  },
  {
   "cell_type": "code",
   "execution_count": 3,
   "id": "political-eleven",
   "metadata": {},
   "outputs": [
    {
     "ename": "SyntaxError",
     "evalue": "invalid syntax (<ipython-input-3-04776f268b21>, line 1)",
     "output_type": "error",
     "traceback": [
      "\u001b[0;36m  File \u001b[0;32m\"<ipython-input-3-04776f268b21>\"\u001b[0;36m, line \u001b[0;32m1\u001b[0m\n\u001b[0;31m    pip3 install flair\u001b[0m\n\u001b[0m         ^\u001b[0m\n\u001b[0;31mSyntaxError\u001b[0m\u001b[0;31m:\u001b[0m invalid syntax\n"
     ]
    }
   ],
   "source": [
    "from flair.data import Sentence\n",
    "from flair.models import SequenceTagger"
   ]
  },
  {
   "cell_type": "code",
   "execution_count": null,
   "id": "unlimited-newcastle",
   "metadata": {},
   "outputs": [],
   "source": [
    "def postags_(list_):\n",
    "      \n",
    "  \"\"\"\n",
    "  Input = list_\n",
    "  list_ holds list of sentences that we can pass to get pos tags\n",
    "\n",
    "  Output - results\n",
    "  [{},{}] Results of different sentences are appended in a single list\n",
    "  To find result of a sentence at the i'th position, one might pass \"postags_(list_)[i]\"\n",
    "  \"\"\"\n",
    "    \n",
    "  results = []\n",
    "  for sent in list_:\n",
    "    res = pos_tagging(sent)\n",
    "    results.append(res)\n",
    "\n",
    "  return results\n"
   ]
  }
 ],
 "metadata": {
  "kernelspec": {
   "display_name": "Python 3",
   "language": "python",
   "name": "python3"
  },
  "language_info": {
   "codemirror_mode": {
    "name": "ipython",
    "version": 3
   },
   "file_extension": ".py",
   "mimetype": "text/x-python",
   "name": "python",
   "nbconvert_exporter": "python",
   "pygments_lexer": "ipython3",
   "version": "3.9.4"
  }
 },
 "nbformat": 4,
 "nbformat_minor": 5
}
