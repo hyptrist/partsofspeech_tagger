{
 "cells": [
  {
   "cell_type": "code",
   "execution_count": 10,
   "id": "photographic-output",
   "metadata": {},
   "outputs": [
    {
     "name": "stdout",
     "output_type": "stream",
     "text": [
      "runs\n"
     ]
    }
   ],
   "source": [
    "def word_tagging(sentence):\n",
    "    import nltk\n",
    "    lst = []\n",
    "\n",
    "    #converting each sentence to word list\n",
    "    tokens = nltk.word_tokenize(sentence)\n",
    "    tagged = nltk.pos_tag(tokens)\n",
    "    lst = tagged[0:len(sentence)]\n",
    "    return lst\n",
    "\n",
    "def extracting_verbs(sentence):\n",
    "  #NNP for proper noun\n",
    "  #https://pythonprogramming.net/part-of-speech-tagging-nltk-tutorial/\n",
    "    lst = word_tagging(sentence)\n",
    "    for key,val in (lst):\n",
    "        if val[:2] == 'VB':\n",
    "            print(key)\n",
    "\n",
    "\n",
    "\n",
    "#word_tagging(\"At Eight o' clock on morning I Arpitansh and Aditya and twenty-four are feeling very pleased why and how\")\n",
    "extracting_verbs(\"Biga runs down the hill\")"
   ]
  },
  {
   "cell_type": "code",
   "execution_count": null,
   "id": "stone-catalog",
   "metadata": {},
   "outputs": [],
   "source": []
  }
 ],
 "metadata": {
  "kernelspec": {
   "display_name": "Python 3",
   "language": "python",
   "name": "python3"
  },
  "language_info": {
   "codemirror_mode": {
    "name": "ipython",
    "version": 3
   },
   "file_extension": ".py",
   "mimetype": "text/x-python",
   "name": "python",
   "nbconvert_exporter": "python",
   "pygments_lexer": "ipython3",
   "version": "3.9.4"
  }
 },
 "nbformat": 4,
 "nbformat_minor": 5
}
